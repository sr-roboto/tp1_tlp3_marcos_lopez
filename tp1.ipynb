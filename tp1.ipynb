{
 "cells": [
  {
   "cell_type": "markdown",
   "metadata": {},
   "source": [
    "# Criterios de evaluación.\n",
    "\n",
    "* Se deben utilizar nombres de variables descriptivos y claros (Utilizar la nomeclatura correspondiente para los nombres de variables).\n",
    "* Comentarios claros y concisos que expliquen el propósito de cada sección del código.\n",
    "* Entrega en tiempo y forma.\n",
    "* Todo el código desarrollado debe ser subido a un repositorio en GitHub (el nombre del repositorio de seguir la siguiente estructura: tp1_tlp3_nombre_apellido).\n",
    "\n",
    "\n",
    "**Aclaración: Para resolver las actividades se debe incertar casillas de codigo entre cada actividad del cuaderno de Jupyter**"
   ]
  },
  {
   "cell_type": "markdown",
   "metadata": {},
   "source": [
    "### 1. **Hola Mundo y Variables**\n",
    "\n",
    "   - **Actividad 1.1**: Deben escribir un programa que imprima \"¡Hola, Mundo!\" en la consola.\n",
    "   - **Actividad 1.2**: Deben crear una variable llamada `nombre` y hacer que el programa imprima un saludo personalizado: `Hola, <nombre>!`"
   ]
  },
  {
   "cell_type": "code",
   "execution_count": null,
   "metadata": {},
   "outputs": [
    {
     "name": "stdout",
     "output_type": "stream",
     "text": [
      "Hola marcos!\n"
     ]
    }
   ],
   "source": [
    "print('Hola mundo')\n"
   ]
  },
  {
   "cell_type": "code",
   "execution_count": null,
   "metadata": {},
   "outputs": [],
   "source": [
    "nombre = 'marcos'\n",
    "\n",
    "print('Hola ' + nombre)\n"
   ]
  },
  {
   "cell_type": "markdown",
   "metadata": {},
   "source": [
    "### 2. **Operaciones Matemáticas Básicas**\n",
    "\n",
    "   - **Actividad 1.1**: Crear un programa que pida al usuario dos números y realice las cuatro operaciones matemáticas básicas (suma, resta, multiplicación y división), imprimiendo los resultados.\n",
    "   - **Actividad 1.2**: Hacer que el programa calcule el promedio de los dos números."
   ]
  },
  {
   "cell_type": "code",
   "execution_count": 53,
   "metadata": {},
   "outputs": [
    {
     "name": "stdout",
     "output_type": "stream",
     "text": [
      "La suma de los numeros es:  10.0\n",
      "La resta de los numeros es:  0.0\n",
      "La multiplicacion de los numeros es:  25.0\n",
      "La division de los numeros es:  1.0\n"
     ]
    }
   ],
   "source": [
    "numero1 = float(input('Ingrese el primer numero: '))\n",
    "numero2 = float(input('Ingrese el segundo numero: '))\n",
    "\n",
    "suma = numero1 + numero2\n",
    "resta = numero1 - numero2\n",
    "multiplicacion = numero1 * numero2\n",
    "division = numero1 / numero2\n",
    "\n",
    "print('La suma de los numeros es: ', suma)\n",
    "print('La resta de los numeros es: ', resta)\n",
    "print('La multiplicacion de los numeros es: ', multiplicacion)\n",
    "print('La division de los numeros es: ', division)\n"
   ]
  },
  {
   "cell_type": "code",
   "execution_count": 54,
   "metadata": {},
   "outputs": [
    {
     "name": "stdout",
     "output_type": "stream",
     "text": [
      "El promedio de los numeros es:  5.0\n"
     ]
    }
   ],
   "source": [
    "promedio = (numero1 + numero2) / 2\n",
    "print('El promedio de los numeros es: ', promedio)\n"
   ]
  },
  {
   "cell_type": "markdown",
   "metadata": {},
   "source": [
    "### 3. **Condicionales (if-else)**\n",
    "\n",
    "   - **Actividad 1.1**: Escribir un programa que pida al usuario su edad y le diga si es mayor de edad (18 años o más).\n",
    "   - **Actividad 1.2**: Agregar un mensaje diferente para diferentes rangos de edad, como por ejemplo, si es un niño, adolescente o adulto."
   ]
  },
  {
   "cell_type": "code",
   "execution_count": null,
   "metadata": {},
   "outputs": [
    {
     "name": "stdout",
     "output_type": "stream",
     "text": [
      "Usted es mayor de edad\n"
     ]
    }
   ],
   "source": [
    "\n",
    "edad = int(input('Ingrese su edad: '))\n",
    "if edad >= 18:\n",
    "    print('Usted es mayor de edad')\n",
    "else:\n",
    "    print('Usted no es mayor de edad')"
   ]
  },
  {
   "cell_type": "code",
   "execution_count": null,
   "metadata": {},
   "outputs": [],
   "source": [
    "edad = int(input('Ingrese su edad: '))\n",
    "if edad >= 18:\n",
    "    print('Usted es adutlo')\n",
    "elif edad >= 13:\n",
    "    print('Usted es adolescente')\n",
    "else:\n",
    "    print('Usted es niño')\n"
   ]
  },
  {
   "cell_type": "markdown",
   "metadata": {},
   "source": [
    "### 4. **Ciclos (while, for)**\n",
    "\n",
    "   - **Actividad 1.1**: Escribir un programa que imprima los números del 1 al 10 usando un bucle `for`.\n",
    "   - **Actividad 1.2**: Usar un bucle `while` para imprimir los números del 1 al 10, e imprimir solo aquellos números que sean divisibles por 2."
   ]
  },
  {
   "cell_type": "code",
   "execution_count": null,
   "metadata": {},
   "outputs": [
    {
     "name": "stdout",
     "output_type": "stream",
     "text": [
      "1\n",
      "2\n",
      "3\n",
      "4\n",
      "5\n",
      "6\n",
      "7\n",
      "8\n",
      "9\n",
      "10\n"
     ]
    }
   ],
   "source": [
    "\n",
    "for i in range(10):\n",
    "  i += 1\n",
    "  print(i)\n",
    "\n"
   ]
  },
  {
   "cell_type": "code",
   "execution_count": null,
   "metadata": {},
   "outputs": [
    {
     "name": "stdout",
     "output_type": "stream",
     "text": [
      "2\n",
      "4\n",
      "6\n",
      "8\n",
      "10\n"
     ]
    }
   ],
   "source": [
    "i = 1\n",
    "\n",
    "while i <= 10:\n",
    "  if i % 2 == 0:\n",
    "    print(i)\n",
    "  i += 1"
   ]
  },
  {
   "cell_type": "markdown",
   "metadata": {},
   "source": [
    "### 5. **Listas y Bucles**\n",
    "\n",
    "   - **Actividad 1.1**: Crear una lista con 5 números y escribir un programa que imprima cada número de la lista usando un bucle `for`.\n",
    "   - **Actividad 1.2**: Usar un bucle para calcular la suma de los números de la lista."
   ]
  },
  {
   "cell_type": "code",
   "execution_count": null,
   "metadata": {},
   "outputs": [
    {
     "name": "stdout",
     "output_type": "stream",
     "text": [
      "1\n",
      "2\n",
      "3\n",
      "4\n",
      "5\n"
     ]
    }
   ],
   "source": [
    "\n",
    "lista_numeros = [1, 2, 3, 4, 5]\n",
    "\n",
    "for numero in lista_numeros:\n",
    "  print(numero)"
   ]
  },
  {
   "cell_type": "code",
   "execution_count": null,
   "metadata": {},
   "outputs": [
    {
     "name": "stdout",
     "output_type": "stream",
     "text": [
      "La suma de los numeros es:  15\n"
     ]
    }
   ],
   "source": [
    "suma_numeros = 0\n",
    "\n",
    "for numero in lista_numeros:\n",
    "  suma_numeros += numero\n",
    "\n",
    "print('La suma de los numeros es: ', suma_numeros)"
   ]
  },
  {
   "cell_type": "markdown",
   "metadata": {},
   "source": [
    "### 6. **Funciones**\n",
    "\n",
    "   - **Actividad 1.1**: Escribir una función llamada `saludo` que reciba un nombre como parámetro y devuelva un saludo personalizado.\n",
    "   - **Actividad 1.2**: Crear una función que reciba dos números y devuelva su suma, resta, multiplicación y división."
   ]
  },
  {
   "cell_type": "code",
   "execution_count": 58,
   "metadata": {},
   "outputs": [
    {
     "name": "stdout",
     "output_type": "stream",
     "text": [
      "Hola Marcos\n"
     ]
    }
   ],
   "source": [
    "def saludo (nombre):\n",
    "  print('Hola ' + nombre)\n",
    "\n",
    "saludo('Marcos')"
   ]
  },
  {
   "cell_type": "code",
   "execution_count": 64,
   "metadata": {},
   "outputs": [
    {
     "name": "stdout",
     "output_type": "stream",
     "text": [
      "La suma de los numeros es:  15\n",
      "La resta de los numeros es:  5\n",
      "La multiplicacion de los numeros es:  50\n",
      "La division de los numeros es:  2.0\n"
     ]
    }
   ],
   "source": [
    "def operaciones (numero1, numero2):\n",
    "  suma = numero1 + numero2\n",
    "  resta = numero1 - numero2\n",
    "  multiplicacion = numero1 * numero2\n",
    "  division = numero1 / numero2\n",
    "\n",
    "  print('La suma de los numeros es: ', suma)\n",
    "  print('La resta de los numeros es: ', resta)\n",
    "  print('La multiplicacion de los numeros es: ', multiplicacion)\n",
    "  print('La division de los numeros es: ', division)\n",
    "\n",
    "resultado = operaciones(10, 5)"
   ]
  },
  {
   "cell_type": "markdown",
   "metadata": {},
   "source": [
    "### 7. **Manejo de cadenas de texto**\n",
    "\n",
    "   - **Actividad 1.1**: Escribir un programa que pida al usuario su nombre y lo imprima en mayúsculas y en minúsculas.\n",
    "   - **Actividad 1.2**: Hacer que el programa imprima la longitud del nombre ingresado (no tener en cuenta los espacios en blanco)."
   ]
  },
  {
   "cell_type": "code",
   "execution_count": 17,
   "metadata": {},
   "outputs": [
    {
     "name": "stdout",
     "output_type": "stream",
     "text": [
      "                                                 MARCOS                                 \n",
      "                                                 marcos                                 \n"
     ]
    }
   ],
   "source": [
    "nombre_usuario = input('Ingrese su nombre: ')\n",
    "\n",
    "print(nombre_usuario.upper())\n",
    "print(nombre_usuario.lower())"
   ]
  },
  {
   "cell_type": "code",
   "execution_count": 18,
   "metadata": {},
   "outputs": [
    {
     "name": "stdout",
     "output_type": "stream",
     "text": [
      "marcos\n"
     ]
    }
   ],
   "source": [
    "print(nombre_usuario.replace(' ', ''))"
   ]
  },
  {
   "cell_type": "markdown",
   "metadata": {},
   "source": [
    "### 8. **Diccionarios**\n",
    "\n",
    "   - **Actividad1.1**: Crear un diccionario que contenga los nombres de tres personas como claves y sus edades como valores. El programa debe imprimir la edad de cada persona.\n",
    "   - **Actividad1.2**: Escribir un programa que pregunte al usuario un nombre, luego su edad y los agregue al diccionario."
   ]
  },
  {
   "cell_type": "code",
   "execution_count": 2,
   "metadata": {},
   "outputs": [
    {
     "name": "stdout",
     "output_type": "stream",
     "text": [
      "el nombre de tobi es:  36\n",
      "el nombre de miyagi es:  21\n",
      "el nombre de juan es:  25\n"
     ]
    }
   ],
   "source": [
    "nombres_personas = {\n",
    "  'tobi': 36,\n",
    "  'miyagi': 21,\n",
    "  'juan': 25\n",
    "}\n",
    "\n",
    "print('la edad de tobi es: ', nombres_personas['tobi'])\n",
    "print('la edad de miyagi es: ', nombres_personas['miyagi'])\n",
    "print('la edad de juan es: ', nombres_personas['juan'])"
   ]
  },
  {
   "cell_type": "code",
   "execution_count": 3,
   "metadata": {},
   "outputs": [
    {
     "name": "stdout",
     "output_type": "stream",
     "text": [
      "{'tobi': 36, 'miyagi': 21, 'juan': 25, 'marcos': '24'}\n"
     ]
    }
   ],
   "source": [
    "nombre_usuario = input('Ingrese su nombre: ')\n",
    "edad_usuario = input('Ingrese su edad: ')\n",
    "\n",
    "nombres_personas[nombre_usuario] = edad_usuario\n",
    "\n",
    "print(nombres_personas)"
   ]
  },
  {
   "cell_type": "markdown",
   "metadata": {},
   "source": [
    "### 9. **Números aleatorios**\n",
    "\n",
    "   - **Actividad 1.1**: Escribir un programa que genere 5 números aleatorios entre 1 y 100, lo imprima por consola y diga si es mayor o menor a 50.\n",
    "   - **Actividad 1.2**: Sumar los 5 números generados aleatoriamente y en caso de que el resultado sea mayor a 100, mostrar el valor antes de ser mayor a 100 y cuantos números se sumaron para llegar a dicho valor."
   ]
  },
  {
   "cell_type": "code",
   "execution_count": 89,
   "metadata": {},
   "outputs": [
    {
     "name": "stdout",
     "output_type": "stream",
     "text": [
      "15  es menor a 50\n",
      "19  es menor a 50\n",
      "88  es mayor a 50\n",
      "41  es menor a 50\n",
      "91  es mayor a 50\n"
     ]
    }
   ],
   "source": [
    "import random\n",
    "\n",
    "for i in range(5):\n",
    "\n",
    "  numero_aleatorio = random.randint(1, 100)\n",
    "\n",
    "  if numero_aleatorio > 50:\n",
    "    print(numero_aleatorio, ' es mayor a 50')\n",
    "  else:\n",
    "    print(numero_aleatorio, ' es menor a 50')\n"
   ]
  },
  {
   "cell_type": "code",
   "execution_count": 106,
   "metadata": {},
   "outputs": [
    {
     "name": "stdout",
     "output_type": "stream",
     "text": [
      "Se sumaron  3 números, valor anterior a 100 es: [24, 53]  =  77 , suma nueva: [24, 53, 71]  =  148\n"
     ]
    }
   ],
   "source": [
    "import random\n",
    "\n",
    "lista_numeros = []\n",
    "\n",
    "for i in range(5):\n",
    "\n",
    "  numero_aleatorio = random.randint(1, 100)\n",
    "  lista_numeros.append(numero_aleatorio) \n",
    "  suma_anterior = sum(lista_numeros[:-1])\n",
    "  suma_numeros = sum(lista_numeros)\n",
    "\n",
    "  if suma_numeros > 100:\n",
    "    print('Se sumaron ',len(lista_numeros), 'números, valor anterior a 100 es:', lista_numeros[:-1], ' = ', suma_anterior, ', suma nueva:' , lista_numeros, ' = ', suma_numeros)\n",
    "    break\n",
    "\n",
    "  if suma_numeros < 100 and i == 4:\n",
    "    print('Aun no se suman 100, se llevan sumados: ', suma_numeros)\n",
    "    break\n",
    "    \n"
   ]
  },
  {
   "cell_type": "markdown",
   "metadata": {},
   "source": [
    "### 10. **Proyecto Final: Calculadora**\n",
    "\n",
    "   - **Actividad 1.1**: Los estudiantes deben crear una calculadora básica que permita realizar operaciones de suma, resta, multiplicación y división con entradas del usuario. El programa debe pedir al usuario que elija la operación y luego introducir 2 números para realizar el cálculo.\n",
    "   - **Actividad 1.2**: Implementar una opción para que el usuario pueda continuar haciendo cálculos o salir del programa."
   ]
  },
  {
   "cell_type": "code",
   "execution_count": null,
   "metadata": {},
   "outputs": [
    {
     "name": "stdout",
     "output_type": "stream",
     "text": [
      "No se puede dividir por 0\n"
     ]
    }
   ],
   "source": [
    "numero1 = float(input('Ingrese el primer numero: '))\n",
    "numero2 = float(input('Ingrese el segundo numero: '))\n",
    "operacion = int(input('Ingrese la operacion a realizar: 1: suma, 2: resta, 3: multiplicacion, 4: division'))\n",
    "\n",
    "if operacion == 1:\n",
    "  print('La suma de los numeros es: ', numero1 + numero2)\n",
    "\n",
    "if operacion == 2:\n",
    "  print('La resta de los numeros es: ', numero1 - numero2)\n",
    "\n",
    "if operacion == 3:\n",
    "  print('La multiplicacion de los numeros es: ', numero1 * numero2)\n",
    "\n",
    "if operacion == 4:\n",
    "  if numero2 == 0:\n",
    "    print('No se puede dividir por 0')\n",
    "  else:\n",
    "    print('La division de los numeros es: ', numero1 / numero2)\n",
    "\n",
    "if operacion > 4:\n",
    "  print('Operacion no valida')\n"
   ]
  },
  {
   "cell_type": "code",
   "execution_count": 425,
   "metadata": {},
   "outputs": [
    {
     "name": "stdout",
     "output_type": "stream",
     "text": [
      "La suma de los numeros es:  10.0\n",
      "La resta de los numeros es:  -5.0\n",
      "La multiplicacion de los numeros es:  25.0\n",
      "La division de los numeros es:  0.5\n"
     ]
    }
   ],
   "source": [
    "\n",
    "while True:\n",
    "  operacion = int(input('Ingrese la operacion a realizar: 1: suma, 2: resta, 3: multiplicacion, 4: division, 5: salir del programa'))\n",
    "\n",
    "  if operacion == 5:\n",
    "    break\n",
    "\n",
    "  numero1 = float(input('Ingrese el primer numero: '))\n",
    "  numero2 = float(input('Ingrese el segundo numero: '))\n",
    "  \n",
    "  if operacion == 1:\n",
    "    print('La suma de los numeros es: ', numero1 + numero2)\n",
    "\n",
    "  if operacion == 2:\n",
    "    print('La resta de los numeros es: ', numero1 - numero2)\n",
    "\n",
    "  if operacion == 3:\n",
    "    print('La multiplicacion de los numeros es: ', numero1 * numero2)\n",
    "\n",
    "  if operacion == 4:\n",
    "    if numero2 == 0:\n",
    "      print('No se puede dividir por 0')\n",
    "    else:\n",
    "      print('La division de los numeros es: ', numero1 / numero2)\n",
    "  \n",
    "  if operacion > 4:\n",
    "    print('Operacion no valida')\n"
   ]
  },
  {
   "cell_type": "markdown",
   "metadata": {},
   "source": [
    "### EXTRA. **Juegos Simples (Adivina el número)**\n",
    "\n",
    "   - **Actividad 1.1**: Escribir un juego donde el programa elija un número aleatorio entre 1 y 100 y el usuario tenga que adivinarlo. El programa debe dar pistas si el número es mayor o menor.\n",
    "   - **Actividad 1.2**: Limitar el número de intentos y mostrar un mensaje de éxito o fracaso al final."
   ]
  },
  {
   "cell_type": "code",
   "execution_count": 423,
   "metadata": {},
   "outputs": [
    {
     "name": "stdout",
     "output_type": "stream",
     "text": [
      "El numero es mayor\n",
      "El numero es mayor\n",
      "El numero es mayor\n",
      "El numero es menor\n",
      "El numero es menor\n",
      "El numero es menor\n",
      "El numero es mayor\n",
      "El numero es mayor\n",
      "Felicidades, adivinaste el numero, el numero era:  62\n"
     ]
    }
   ],
   "source": [
    "import random\n",
    "\n",
    "numero_aleatorio = random.randint(1, 100)\n",
    "\n",
    "\n",
    "while numero_elegido != numero_aleatorio:\n",
    "  numero_elegido = int(input('Ingrese un numero: '))\n",
    "\n",
    "  if numero_elegido > numero_aleatorio:\n",
    "    print('El numero es menor')\n",
    "    \n",
    "  if numero_elegido < numero_aleatorio:\n",
    "    print('El numero es mayor')\n",
    "  \n",
    "  if numero_elegido == numero_aleatorio: \n",
    "      print('Felicidades, adivinaste el numero, el numero era: ', numero_aleatorio)\n",
    "      break\n",
    "      \n"
   ]
  },
  {
   "cell_type": "code",
   "execution_count": 442,
   "metadata": {},
   "outputs": [
    {
     "name": "stdout",
     "output_type": "stream",
     "text": [
      "El numero es menor, te quedan  9 intentos\n",
      "El numero es menor, te quedan  8 intentos\n",
      "El numero es menor, te quedan  7 intentos\n",
      "El numero es mayor, te quedan  6 intentos\n",
      "El numero es mayor, te quedan  5 intentos\n",
      "El numero es mayor, te quedan  4 intentos\n",
      "El numero es mayor, te quedan  3 intentos\n",
      "El numero es mayor, te quedan  2 intentos\n",
      "El numero es menor, te quedan  1 intentos\n",
      "El numero es mayor, te quedan  0 intentos\n",
      "Felicidades, adivinaste el numero, el numero era:  29\n"
     ]
    }
   ],
   "source": [
    "import random\n",
    "\n",
    "numero_aleatorio = random.randint(1, 100)\n",
    "\n",
    "for numero_intentos in range(10):\n",
    "\n",
    "  numero_elegido = int(input('Ingrese un numero: '))\n",
    "  numero_intentos += 1\n",
    "\n",
    "  if numero_elegido > numero_aleatorio:\n",
    "    print('El numero es menor, te quedan ', 10 - numero_intentos, 'intentos')\n",
    "  else:\n",
    "    print('El numero es mayor, te quedan ', 10 - numero_intentos, 'intentos')\n",
    "\n",
    "  if numero_elegido == numero_aleatorio:\n",
    "    print('Felicidades, adivinaste el numero, el numero era: ', numero_aleatorio)\n",
    "    break\n",
    "  if numero_intentos == 10:\n",
    "    print('Se acabaron los intentos, el numero era: ', numero_aleatorio)\n",
    "    break\n",
    "\n"
   ]
  }
 ],
 "metadata": {
  "kernelspec": {
   "display_name": "Python 3",
   "language": "python",
   "name": "python3"
  },
  "language_info": {
   "codemirror_mode": {
    "name": "ipython",
    "version": 3
   },
   "file_extension": ".py",
   "mimetype": "text/x-python",
   "name": "python",
   "nbconvert_exporter": "python",
   "pygments_lexer": "ipython3",
   "version": "3.13.2"
  }
 },
 "nbformat": 4,
 "nbformat_minor": 2
}
